{
 "cells": [
  {
   "cell_type": "code",
   "execution_count": 1,
   "metadata": {},
   "outputs": [],
   "source": [
    "import os\n",
    "import cv2\n",
    "import pandas as pd\n",
    "import scanpy as sc"
   ]
  },
  {
   "cell_type": "code",
   "execution_count": 2,
   "metadata": {},
   "outputs": [],
   "source": [
    "root_path = '../spatialLIBD'\n",
    "name_list = os.listdir(root_path)"
   ]
  },
  {
   "cell_type": "code",
   "execution_count": 4,
   "metadata": {},
   "outputs": [],
   "source": [
    "name_list.remove('151673')"
   ]
  },
  {
   "cell_type": "code",
   "execution_count": 5,
   "metadata": {},
   "outputs": [
    {
     "data": {
      "text/plain": [
       "['151675',\n",
       " '151670',\n",
       " '151669',\n",
       " '151671',\n",
       " '151672',\n",
       " '151674',\n",
       " '151510',\n",
       " '151507',\n",
       " '151509',\n",
       " '151676',\n",
       " '151508']"
      ]
     },
     "execution_count": 5,
     "metadata": {},
     "output_type": "execute_result"
    }
   ],
   "source": [
    "name_list"
   ]
  },
  {
   "cell_type": "code",
   "execution_count": 8,
   "metadata": {},
   "outputs": [],
   "source": [
    "name_list = ['151673']"
   ]
  },
  {
   "cell_type": "code",
   "execution_count": 9,
   "metadata": {},
   "outputs": [],
   "source": [
    "path_list = [os.path.join(root_path, name) for name in name_list]\n",
    "\n",
    "save_path = './data/spatialLIBD/test'"
   ]
  },
  {
   "cell_type": "code",
   "execution_count": 10,
   "metadata": {},
   "outputs": [
    {
     "name": "stderr",
     "output_type": "stream",
     "text": [
      "Variable names are not unique. To make them unique, call `.var_names_make_unique`.\n",
      "Variable names are not unique. To make them unique, call `.var_names_make_unique`.\n"
     ]
    }
   ],
   "source": [
    "for i, path in enumerate(path_list):\n",
    "    adata_h5 = sc.read_visium(path, load_images=True, count_file='filtered_feature_bc_matrix.h5')\n",
    "    metadata = pd.read_csv(os.path.join(path, 'metadata.tsv'), sep='\\t')\n",
    "    full_image = cv2.imread(os.path.join(path, f'{name_list[i]}_full_image.tif'))\n",
    "    \n",
    "    for c in pd.Categorical(metadata['layer_guess']).categories:\n",
    "        if not os.path.exists(os.path.join(save_path, c)):\n",
    "            os.mkdir(os.path.join(save_path, c))\n",
    "    \n",
    "    for j, (x, y) in enumerate(adata_h5.obsm['spatial']):\n",
    "        if metadata['layer_guess'].isnull()[j]:\n",
    "            continue\n",
    "        category = metadata['layer_guess'][j]\n",
    "        cv2.imwrite(os.path.join(save_path, category, f'{name_list[i]}_{j}.jpg'), full_image[y-112:y+112, x-112:x+112])"
   ]
  },
  {
   "cell_type": "code",
   "execution_count": null,
   "metadata": {},
   "outputs": [],
   "source": []
  }
 ],
 "metadata": {
  "kernelspec": {
   "display_name": "Python 3",
   "language": "python",
   "name": "python3"
  },
  "language_info": {
   "codemirror_mode": {
    "name": "ipython",
    "version": 3
   },
   "file_extension": ".py",
   "mimetype": "text/x-python",
   "name": "python",
   "nbconvert_exporter": "python",
   "pygments_lexer": "ipython3",
   "version": "3.8.3"
  }
 },
 "nbformat": 4,
 "nbformat_minor": 4
}
